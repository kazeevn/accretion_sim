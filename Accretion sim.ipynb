{
 "cells": [
  {
   "cell_type": "code",
   "execution_count": 1,
   "metadata": {},
   "outputs": [
    {
     "name": "stdout",
     "output_type": "stream",
     "text": [
      "env: CUDA_VISIBLE_DEVICES=0\n"
     ]
    }
   ],
   "source": [
    "%env CUDA_VISIBLE_DEVICES=0"
   ]
  },
  {
   "cell_type": "code",
   "execution_count": 2,
   "metadata": {},
   "outputs": [],
   "source": [
    "import numpy as np\n",
    "import faiss"
   ]
  },
  {
   "cell_type": "code",
   "execution_count": 3,
   "metadata": {},
   "outputs": [],
   "source": [
    "particle_count = 10**5\n",
    "particles = np.random.uniform(size=(particle_count, 3)).astype(dtype='float32')"
   ]
  },
  {
   "cell_type": "code",
   "execution_count": 4,
   "metadata": {},
   "outputs": [],
   "source": [
    "# GPU\n",
    "gpu_resources = faiss.StandardGpuResources()\n",
    "gpu_device_id = 0"
   ]
  },
  {
   "cell_type": "code",
   "execution_count": 5,
   "metadata": {},
   "outputs": [
    {
     "name": "stdout",
     "output_type": "stream",
     "text": [
      "1.12 s ± 13 ms per loop (mean ± std. dev. of 7 runs, 1 loop each)\n"
     ]
    }
   ],
   "source": [
    "%%timeit\n",
    "index_gpu = faiss.IndexFlatL2(particles.shape[1])\n",
    "index_gpu = faiss.index_cpu_to_gpu(gpu_resources, gpu_device_id, index_gpu)\n",
    "index_gpu.add(particles)\n",
    "distances, indices = index_gpu.search(particles, 50)"
   ]
  },
  {
   "cell_type": "code",
   "execution_count": 8,
   "metadata": {},
   "outputs": [
    {
     "name": "stdout",
     "output_type": "stream",
     "text": [
      "2.69 s ± 973 ms per loop (mean ± std. dev. of 7 runs, 1 loop each)\n"
     ]
    }
   ],
   "source": [
    "%%timeit\n",
    "# CPU\n",
    "index_cpu = faiss.IndexHNSWFlat(particles.shape[1], 32)\n",
    "# Parameters require empirical tuning\n",
    "# index_flat.efConstruction = 40\n",
    "index_cpu.efSearch = 100\n",
    "index_cpu.add(particles)\n",
    "distances, indices = index_cpu.search(particles, 50)"
   ]
  },
  {
   "cell_type": "code",
   "execution_count": 7,
   "metadata": {},
   "outputs": [],
   "source": [
    "# (indices[:, 0] == np.arange(len(points))).mean()"
   ]
  }
 ],
 "metadata": {
  "kernelspec": {
   "display_name": "Planet",
   "language": "python",
   "name": "planet"
  },
  "language_info": {
   "codemirror_mode": {
    "name": "ipython",
    "version": 3
   },
   "file_extension": ".py",
   "mimetype": "text/x-python",
   "name": "python",
   "nbconvert_exporter": "python",
   "pygments_lexer": "ipython3",
   "version": "3.7.3"
  }
 },
 "nbformat": 4,
 "nbformat_minor": 2
}
